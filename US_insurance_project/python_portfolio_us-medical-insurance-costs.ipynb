{
 "cells": [
  {
   "cell_type": "markdown",
   "metadata": {},
   "source": [
    "# U.S. Medical Insurance Costs"
   ]
  },
  {
   "cell_type": "markdown",
   "metadata": {},
   "source": [
    "In this project, a CSV file with medical insurance costs will be investigated using Python fundamentals. The goal with this project will be to analyze various attributes within insurance.csv to learn more about the patient information in the file and gain insight into potential use cases for the dataset."
   ]
  },
  {
   "cell_type": "markdown",
   "metadata": {},
   "source": [
    "### I. Load Data"
   ]
  },
  {
   "cell_type": "code",
   "execution_count": 1,
   "metadata": {},
   "outputs": [],
   "source": [
    "# import CSV library\n",
    "import csv"
   ]
  },
  {
   "cell_type": "markdown",
   "metadata": {},
   "source": [
    "- Create empty lists to store csv varibles from insurance.csv "
   ]
  },
  {
   "cell_type": "code",
   "execution_count": 35,
   "metadata": {},
   "outputs": [],
   "source": [
    "ages=[]\n",
    "sexes=[]\n",
    "bmi=[]\n",
    "children=[]\n",
    "smoker=[]\n",
    "regions=[]\n",
    "insurance_cost=[]"
   ]
  },
  {
   "cell_type": "markdown",
   "metadata": {},
   "source": [
    "- Store each indivisual column as in an empty list"
   ]
  },
  {
   "cell_type": "code",
   "execution_count": 36,
   "metadata": {},
   "outputs": [],
   "source": [
    "def load_data(lst, csv_file, column_name):\n",
    "    #Open CSV file\n",
    "    with open(csv_file) as csv_info:\n",
    "        # Read the Data from the CSV file\n",
    "        csv_dictionary= csv.DictReader(csv_info)        \n",
    "        #loop through data in each row of the CSV\n",
    "        for row in csv_dictionary:\n",
    "            lst.append(row[column_name])\n",
    "    return lst"
   ]
  },
  {
   "cell_type": "code",
   "execution_count": 70,
   "metadata": {},
   "outputs": [],
   "source": [
    "# Organize data into empty lists\n",
    "load_data(ages, 'insurance.csv', 'age')\n",
    "load_data(sexes, 'insurance.csv', 'sex')\n",
    "load_data(bmi, 'insurance.csv', 'bmi')\n",
    "load_data(children, 'insurance.csv', 'children')\n",
    "load_data(smoker, 'insurance.csv', 'smoker')\n",
    "load_data(regions, 'insurance.csv', 'region')\n",
    "load_data(insurance_cost, 'insurance.csv', 'charges')\n",
    "pass"
   ]
  },
  {
   "cell_type": "markdown",
   "metadata": {},
   "source": [
    "### 2. Create Classes and methods "
   ]
  },
  {
   "cell_type": "markdown",
   "metadata": {},
   "source": [
    "Create `PaitentIinfo` class and\n",
    "- `avg_age`\n",
    "- `count_sexes`\n",
    "- `unique_reigions` \n",
    "- `average_costs`\n",
    "- `create_dictionary`\n",
    "\n",
    "methods"
   ]
  },
  {
   "cell_type": "code",
   "execution_count": 167,
   "metadata": {},
   "outputs": [],
   "source": [
    "class PaitentInfo:\n",
    "    def __init__(self, age, sex, bmi, num_of_children, smoker, regions, costs):\n",
    "        self.age= age\n",
    "        self.sex= sex\n",
    "        self.bmi= bmi \n",
    "        self.num_of_children= num_of_children\n",
    "        self.smoker= smoker\n",
    "        self.regions= regions\n",
    "        self.costs= costs\n",
    "        \n",
    "    # Average age \n",
    "    def avg_age(self):\n",
    "        total_age = 0\n",
    "        for ages in self.age:\n",
    "            total_age += float(ages)\n",
    "        avg_age= total_age// len(self.age)\n",
    "        return(\"The average age of this population is {x} years old!\".format(x= avg_age))\n",
    "        \n",
    "    # Count Sexes\n",
    "    def count_sexes(self):\n",
    "        males= 0\n",
    "        females= 0\n",
    "        for sex in self.sex:\n",
    "            if sex == \"male\":\n",
    "                males += 1\n",
    "            else:\n",
    "                females +=1\n",
    "        return(\"Females: {x} \\nMales: {y}\".format(x=females, y = males))\n",
    "        \n",
    "    #Find the unique regions\n",
    "    def unique_regions(self):\n",
    "        unique_regions= []\n",
    "        for x in self.regions:\n",
    "            if x not in unique_regions:\n",
    "                unique_regions.append(x)\n",
    "        return \"The areas that the popualation are representative of are in a list that includes:\\n {x}\".format(x=unique_regions)\n",
    "    \n",
    "    #Find the Average cost of insurance\n",
    "    def avg_insurance_cost(self):\n",
    "        total_cost = 0\n",
    "        for x in self.costs:\n",
    "            total_cost += float(x)\n",
    "        average_cost = round(total_cost/ len(self.costs), 2)\n",
    "        return(\"The average cost of insurance for this population is ${x}.\".format(x=average_cost))"
   ]
  },
  {
   "cell_type": "markdown",
   "metadata": {},
   "source": [
    "### 3. Test Methods "
   ]
  },
  {
   "cell_type": "code",
   "execution_count": 168,
   "metadata": {},
   "outputs": [
    {
     "name": "stdout",
     "output_type": "stream",
     "text": [
      "The average age of this population is 39.0 years old! \n",
      "\n",
      "Females: 3310 \n",
      "Males: 3380 \n",
      "\n",
      "The areas that the popualation are representative of are in a list that includes:\n",
      " ['southwest', 'southeast', 'northwest', 'northeast'] \n",
      "\n",
      "The average cost of insurance for this population is $13270.42.\n"
     ]
    }
   ],
   "source": [
    "info = PaitentInfo(ages, sexes, bmi, children, smoker, regions, insurance_cost)\n",
    "print(info.avg_age(), \"\\n\")\n",
    "print(info.count_sexes(),\"\\n\")\n",
    "print(info.unique_regions(), \"\\n\")\n",
    "print(info.avg_insurance_cost())\n"
   ]
  },
  {
   "cell_type": "code",
   "execution_count": null,
   "metadata": {},
   "outputs": [],
   "source": []
  }
 ],
 "metadata": {
  "kernelspec": {
   "display_name": "Python 3",
   "language": "python",
   "name": "python3"
  },
  "language_info": {
   "codemirror_mode": {
    "name": "ipython",
    "version": 3
   },
   "file_extension": ".py",
   "mimetype": "text/x-python",
   "name": "python",
   "nbconvert_exporter": "python",
   "pygments_lexer": "ipython3",
   "version": "3.8.5"
  }
 },
 "nbformat": 4,
 "nbformat_minor": 4
}
